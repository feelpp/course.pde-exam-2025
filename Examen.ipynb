{
  "cells": [
    {
      "cell_type": "markdown",
      "id": "intro-0",
      "metadata": {},
      "source": [
        "**Remise attendue**  \n",
        "\n",
        "- Répondre aux **QCM** (0, 1 ou plusieurs réponses possibles), **justifier brièvement** chaque choix.\n",
        "- **Projet C++ complet** (CMake, code, tests `ctest`). Un code qui ne compile pas peut obtenir des points si la réponse est pertinente.\n",
        "- Pour les tests avec Feel++, vous avez accès à la documentation : https://docs.feelpp.org\n",
        "- Répondre aux **questions de la Partie 2**.\n",
        "\n",
        "Faire le commit de votre travail **au plus tard à la fin de l'examen**."
      ]
    },
    {
      "cell_type": "markdown",
      "id": "p1-title",
      "metadata": {},
      "source": [
        "## Partie 1 : QCM\n",
        "\n",
        "**Instructions : 0, 1 ou plusieurs réponses possibles, justifiez brièvement.**"
      ]
    },
    {
      "cell_type": "markdown",
      "id": "q1",
      "metadata": {},
      "source": [
        "1. **Forme faible pour Poisson Dirichlet homogène**  \n",
        "Considérer $-\\Delta u=f$ dans $\\Omega$ avec $u=0$ sur $\\partial\\Omega$. La forme faible correcte est :  \n",
        "A) Trouver $u\\in H^1(\\Omega)$ tel que $\\int_\\Omega \\nabla u\\cdot\\nabla v=\\int_\\Omega f v\\;\\forall v\\in H^1(\\Omega)$.  \n",
        "B) Trouver $u\\in H_0^1(\\Omega)$ tel que $\\int_\\Omega \\nabla u\\cdot\\nabla v=\\int_\\Omega f v\\;\\forall v\\in H_0^1(\\Omega)$.  \n",
        "C) Trouver $u\\in L^2(\\Omega)$ tel que $\\int_\\Omega u v=\\int_\\Omega f v\\;\\forall v\\in L^2(\\Omega)$.  \n",
        "D) Trouver $u\\in H^1(\\Omega)$ tel que $\\int_\\Omega \\Delta u\\,v=\\int_\\Omega f v\\;\\forall v\\in H^1(\\Omega)$."
      ]
    },
    {
      "cell_type": "markdown",
      "id": "a1",
      "metadata": {},
      "source": [
        "Réponse et justification courte:"
      ]
    },
    {
      "cell_type": "code",
      "execution_count": null,
      "id": "c1",
      "metadata": {},
      "outputs": [],
      "source": [
        "# Q1 — Espace pour vos calculs/tests éventuels\n",
        "# (Laisser vide si vous répondez en texte uniquement)\n"
      ]
    },
    {
      "cell_type": "markdown",
      "id": "q2",
      "metadata": {},
      "source": [
        "2. **Fonctions de forme P1 (triangles)**  \n",
        "A) $\\varphi_i(x_j)=\\delta_{ij}$ aux sommets.  \n",
        "B) Support global.  \n",
        "C) S’annulent forcément sur tout $\\partial\\Omega$.  \n",
        "D) Non orthogonales en général en $L^2(\\Omega)$."
      ]
    },
    {
      "cell_type": "markdown",
      "id": "a2",
      "metadata": {},
      "source": [
        "Réponse et justification courte:"
      ]
    },
    {
      "cell_type": "code",
      "execution_count": null,
      "id": "c2",
      "metadata": {},
      "outputs": [],
      "source": [
        "# Q2 — Espace pour vos calculs/tests éventuels\n"
      ]
    },
    {
      "cell_type": "markdown",
      "id": "q3",
      "metadata": {},
      "source": [
        "3. **Matrice de rigidité pour diffusion**  \n",
        "A) Creuse et symétrique définie positive (avec Dirichlet).  \n",
        "B) Dense et non carrée.  \n",
        "C) Creuse et non symétrique.  \n",
        "D) Diagonale si quadrature exacte."
      ]
    },
    {
      "cell_type": "markdown",
      "id": "a3",
      "metadata": {},
      "source": [
        "Réponse et justification courte:"
      ]
    },
    {
      "cell_type": "code",
      "execution_count": null,
      "id": "c3",
      "metadata": {},
      "outputs": [],
      "source": [
        "# Q3 — Espace pour vos calculs/tests éventuels\n"
      ]
    },
    {
      "cell_type": "markdown",
      "id": "q4",
      "metadata": {},
      "source": [
        "4. **Imposition de Dirichlet**  \n",
        "A) Élimination lignes/colonnes et modification du second membre.  \n",
        "B) Ajout d’une pénalité $\\gamma\\int_{\\partial\\Omega}(u-g)v$ ($\\gamma\\gg 1$).  \n",
        "C) Multiplicateurs de Lagrange.  \n",
        "D) Modification du second membre uniquement, sans toucher la matrice."
      ]
    },
    {
      "cell_type": "markdown",
      "id": "a4",
      "metadata": {},
      "source": [
        "Réponse et justification courte:"
      ]
    },
    {
      "cell_type": "code",
      "execution_count": null,
      "id": "c4",
      "metadata": {},
      "outputs": [],
      "source": [
        "# Q4 — Espace pour vos calculs/tests éventuels\n"
      ]
    },
    {
      "cell_type": "markdown",
      "id": "q5",
      "metadata": {},
      "source": [
        "5. **Ordres de convergence P1 (solution lisse, maillage régulier)**  \n",
        "A) $\\|u-u_h\\|_{L^2}=O(h)$.  \n",
        "B) $\\|u-u_h\\|_{L^2}=O(h^2)$.  \n",
        "C) $\\|u-u_h\\|_{H^1}=O(h)$.  \n",
        "D) $\\|u-u_h\\|_{H^1}=O(h^2)$."
      ]
    },
    {
      "cell_type": "markdown",
      "id": "a5",
      "metadata": {},
      "source": [
        "Réponse et justification courte:"
      ]
    },
    {
      "cell_type": "code",
      "execution_count": null,
      "id": "c5",
      "metadata": {},
      "outputs": [],
      "source": [
        "# Q5 — Espace pour vos calculs/tests éventuels\n"
      ]
    },
    {
      "cell_type": "markdown",
      "id": "q6",
      "metadata": {},
      "source": [
        "6. **Quadrature sur triangle**  \n",
        "Pour intégrer exactement $\\varphi_i\\,f$ avec $f$ linéaire :  \n",
        "A) Barycentre (1 point).  \n",
        "B) Règle 3 points (ordre 2, exacte pour quadratiques).  \n",
        "C) 7 points (ordre 5).  \n",
        "D) Simpson 1D appliqué côté par côté."
      ]
    },
    {
      "cell_type": "markdown",
      "id": "a6",
      "metadata": {},
      "source": [
        "Réponse et justification courte:"
      ]
    },
    {
      "cell_type": "code",
      "execution_count": null,
      "id": "c6",
      "metadata": {},
      "outputs": [],
      "source": [
        "# Q6 — Espace pour vos calculs/tests éventuels\n"
      ]
    },
    {
      "cell_type": "markdown",
      "id": "q7",
      "metadata": {},
      "source": [
        "7. **Conditions de Neumann homogènes (Poisson)**  \n",
        "A) Solution unique si $\\int_\\Omega f=0$.  \n",
        "B) Matrice singulière (noyau = constantes).  \n",
        "C) Équivalentes à Dirichlet nul.  \n",
        "D) Pas de condition de compatibilité nécessaire."
      ]
    },
    {
      "cell_type": "markdown",
      "id": "a7",
      "metadata": {},
      "source": [
        "Réponse et justification courte:"
      ]
    },
    {
      "cell_type": "code",
      "execution_count": null,
      "id": "c7",
      "metadata": {},
      "outputs": [],
      "source": [
        "# Q7 — Espace pour vos calculs/tests éventuels\n"
      ]
    },
    {
      "cell_type": "markdown",
      "id": "q8",
      "metadata": {},
      "source": [
        "8. **Stokes incompressible (discrétisation)**  \n",
        "A) $\\nabla\\cdot u=0$ = incompressibilité.  \n",
        "B) La pression joue le rôle de multiplicateur de Lagrange.  \n",
        "C) Toute paire $V_h/Q_h$ est stable.  \n",
        "D) La condition inf–sup doit être respectée."
      ]
    },
    {
      "cell_type": "markdown",
      "id": "a8",
      "metadata": {},
      "source": [
        "Réponse et justification courte:"
      ]
    },
    {
      "cell_type": "code",
      "execution_count": null,
      "id": "c8",
      "metadata": {},
      "outputs": [],
      "source": [
        "# Q8 — Espace pour vos calculs/tests éventuels\n"
      ]
    },
    {
      "cell_type": "markdown",
      "id": "q9",
      "metadata": {},
      "source": [
        "9. **Convection–diffusion sans stabilisation (Galerkin standard)**  \n",
        "A) Pour $\\mathrm{Pe}\\gg 1$, oscillations possibles.  \n",
        "B) SUPG/GLS/upwind permettent de stabiliser.  \n",
        "C) Les ordres optimaux sont toujours conservés.  \n",
        "D) Le maillage doit pouvoir résoudre la couche convective (~$O(\\varepsilon)$)."
      ]
    },
    {
      "cell_type": "markdown",
      "id": "a9",
      "metadata": {},
      "source": [
        "Réponse et justification courte:"
      ]
    },
    {
      "cell_type": "code",
      "execution_count": null,
      "id": "c9",
      "metadata": {},
      "outputs": [],
      "source": [
        "# Q9 — Espace pour vos calculs/tests éventuels\n"
      ]
    },
    {
      "cell_type": "markdown",
      "id": "q10",
      "metadata": {},
      "source": [
        "10. **Solveurs et préconditionneurs**  \n",
        "A) CG nécessite une matrice SPD.  \n",
        "B) GMRES peut traiter des matrices non symétriques.  \n",
        "C) Les préconditionneurs multigrilles/AMG améliorent le conditionnement effectif.  \n",
        "D) Un LU direct est toujours préférable pour les très grands systèmes clairsemés."
      ]
    },
    {
      "cell_type": "markdown",
      "id": "a10",
      "metadata": {},
      "source": [
        "Réponse et justification courte:"
      ]
    },
    {
      "cell_type": "code",
      "execution_count": null,
      "id": "c10",
      "metadata": {},
      "outputs": [],
      "source": [
        "# Q10 — Espace pour vos calculs/tests éventuels\n"
      ]
    },
    {
      "cell_type": "markdown",
      "id": "p2-title",
      "metadata": {},
      "source": [
        "## Partie 2 : Extension et tests du code\n",
        "\n",
        "Objectif : vérifier rapidement le code, ajouter de petits tests ciblés et documenter les choix numériques. *(Vous pouvez utiliser Boost.UT.)*"
      ]
    },
    {
      "cell_type": "markdown",
      "id": "q21",
      "metadata": {},
      "source": [
        "### Question 2.1 – Vérification initiale  \n",
        "1. **Architecture** : présentez brièvement les composants (maillage, espace, assemblage $K$, RHS, conditions aux limites, solveur, post-traitement).  \n",
        "2. **Tests existants** : listez les tests mathématiques présents (symétrie SPD, convergence élémentaire, etc.).  \n",
        "3. **Exécution** : lancez `ctest` et indiquez le résultat global.\n"
      ]
    },
    {
      "cell_type": "code",
      "execution_count": null,
      "id": "c21",
      "metadata": {},
      "outputs": [],
      "source": [
        "\n"
      ]
    },
    {
      "cell_type": "markdown",
      "id": "q22",
      "metadata": {},
      "source": [
        "### Question 2.2 – Test d’interpolation non exacte  \n",
        "Choisir $u(x,y)=x^2+y^2$ (non représentable exactement en P1).  \n",
        "- Interpoler $u$ sur un maillage uniforme.  \n",
        "- Afficher une **coupe 1D** (p. ex. le long de $y=0.5$) ou quelques valeurs nodales représentatives.  \n",
        "- Commentez brièvement la non-exactitude de la représentation en P1.\n"
      ]
    },
    {
      "cell_type": "code",
      "execution_count": null,
      "id": "c22",
      "metadata": {},
      "outputs": [],
      "source": [
        "# 2.2 — Place pour produire une coupe 1D / valeurs nodales\n",
        "\n"
      ]
    },
    {
      "cell_type": "markdown",
      "id": "q23",
      "metadata": {},
      "source": [
        "### Question 2.3 – Identité d’énergie (diffusion)  \n",
        "Pour $f=0$ et $u=0$ sur $\\partial\\Omega$, la solution est $u\\equiv 0$.  \n",
        "- Montrez (numériquement) que $u_h$ nul est solution : assemblez $K$, appliquez Dirichlet nul, résolvez, et vérifiez que $\\|u_h\\|$ est numériquement $\\approx 0$.  \n",
        "- Vérifiez que l’énergie discrète $u_h^T K u_h$ est $\\approx 0$.  \n",
        "- Commentez l’effet d’un RHS non nul localisé.\n"
      ]
    },
    {
      "cell_type": "code",
      "execution_count": null,
      "id": "c23",
      "metadata": {},
      "outputs": [],
      "source": [
        "# 2.3 — Place pour calculs d'énergie discrète\n",
        "\n"
      ]
    },
    {
      "cell_type": "markdown",
      "id": "q24",
      "metadata": {},
      "source": [
        "### Question 2.4 – Ajout d’un terme de réaction  \n",
        "Équation : $-\\Delta u + a\\,u=f$.  \n",
        "- Ajoutez $a M$ à $K$ (où $M$ est la matrice de masse).  \n",
        "- Testez avec $u_{ex}=1$, $f=a$, Dirichlet $u=1$ sur $\\partial\\Omega$.  \n",
        "- Vérifiez numériquement que la solution obtenue est proche de 1 (via quelques valeurs nodales/coupes).\n"
      ]
    },
    {
      "cell_type": "code",
      "execution_count": null,
      "id": "c24",
      "metadata": {},
      "outputs": [],
      "source": [
        "# 2.4 — Place pour assembler K := K + a*M et contrôler des valeurs nodales\n",
        "\n"
      ]
    },
    {
      "cell_type": "markdown",
      "id": "q25",
      "metadata": {},
      "source": [
        "### Question 2.5 – Méthodes d’imposition de Dirichlet (mini-expérience)  \n",
        "Comparez **deux** méthodes : (i) élimination lignes/colonnes + RHS, (ii) pénalisation forte (choix d’un $\\gamma$).  \n",
        "- Implémentez les deux variantes sur un petit cas (Poisson 2D, $u=0$ sur $\\partial\\Omega$, source simple).  \n",
        "- Relevez : **temps de résolution** (grossier), **symétrie**.  \n",
        "- Commentez avantages/inconvénients de chaque approche.\n"
      ]
    },
    {
      "cell_type": "code",
      "execution_count": null,
      "id": "c25",
      "metadata": {},
      "outputs": [],
      "source": [
        "# 2.5 — Place pour mesurer quelques timings/itérations\n",
        "\n"
      ]
    },
    {
      "cell_type": "markdown",
      "id": "q26",
      "metadata": {},
      "source": [
        "### Question 2.6 – Vérification de symétrie et SPD de $K$  \n",
        "- Vérifiez numériquement que $K$ est **symétrique** (norme de $K-K^T$).  \n",
        "- Testez la **définie-positivité** : $x^T K x > 0$ pour plusieurs vecteurs aléatoires $x$ non nuls (avec Dirichlet).  \n",
        "- Discutez brièvement ce qui peut rompre SPD (mauvaise imposition, assemblage, quadrature)."
      ]
    },
    {
      "cell_type": "code",
      "execution_count": null,
      "id": "c26",
      "metadata": {},
      "outputs": [],
      "source": [
        "# 2.6 — Place pour tests (K-K^T) et x^T K x\n",
        "\n"
      ]
    },
    {
      "cell_type": "markdown",
      "id": "q27",
      "metadata": {},
      "source": [
        "### Question 2.7 – Test unitaire minimal et intégration `ctest`  \n",
        "- Écrivez un **test Boost.UT** minimal qui assemble un petit $K$ (maillage grossier), applique Dirichlet, résout et vérifie une propriété simple (par ex. norme de $u_h$ non nulle si RHS non nul).  \n",
        "- **Intégrez** ce test dans `ctest` (CMakeLists.txt).  \n",
        "- Montrez la commande et la sortie résumée (`ctest -R mon_test -V`)."
      ]
    },
    {
      "cell_type": "code",
      "execution_count": null,
      "id": "c27",
      "metadata": {},
      "outputs": [],
      "source": [
        "# 2.7 — Place pour esquisser le test et appel ctest\n",
        "\n"
      ]
    }
  ],
  "metadata": {
    "kernelspec": {
      "display_name": "Python 3",
      "name": "python3"
    },
    "language_info": {
      "name": "python"
    }
  },
  "nbformat": 4,
  "nbformat_minor": 5
}
