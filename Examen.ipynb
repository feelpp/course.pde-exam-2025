{
 "cells": [
  {
   "cell_type": "markdown",
   "id": "563f8d88",
   "metadata": {},
   "source": [
    "**Remise attendue **  \n",
    "\n",
    "- Feuille de réponses QCM  \n",
    "- Projet C++ complet (CMake, code, tests `ctest`)  \n",
    "- Script ou notebook de post‐traitement (tableaux, courbes)  \n",
    "- Rapport bref sur méthodologie, choix de quadrature, BC par marqueurs, convergence.  Bon travail \n",
    "\n",
    "Faire le commit de votre travail au plus tard à la fin de l'examen."
   ]
  },
  {
   "cell_type": "markdown",
   "id": "85aa8a3c",
   "metadata": {},
   "source": [
    "## Partie 1 : QCM\n",
    "\n",
    "**Instructions : pour chaque question, cochez la bonne réponse (une seule).**\n",
    "\n",
    "1. **Forme faible de l’équation de Poisson**  \n",
    "   \n",
    "   $-\\Delta u = f \\quad\\text{dans }\\Omega,\\quad u=0\\text{ sur }\\partial\\Omega.$\n",
    "    \n",
    "   La forme faible correcte est :  \n",
    "   A) Trouver $u\\in H^1(\\Omega)$ tel que $\\displaystyle\\int_\\Omega \\nabla u\\cdot\\nabla v = \\int_\\Omega f\\,v\\;\\forall v\\in H^1(\\Omega)$.\n",
    "   B) Trouver $u\\in H_0^1(\\Omega)$ tel que $\\displaystyle\\int_\\Omega \\nabla u\\cdot\\nabla v = \\int_\\Omega f\\,v\\;\\forall v\\in H_0^1(\\Omega)$.  \n",
    "   C) Trouver $u\\in C^0(\\overline\\Omega)$ tel que $\\displaystyle\\int_\\Omega \\Delta u\\,v = \\int_\\Omega f\\,v\\;\\forall v\\in C^0(\\overline\\Omega)$.  \n",
    "   D) Trouver $u\\in L^2(\\Omega)$ tel que $\\displaystyle\\int_\\Omega u\\,v = \\int_\\Omega f\\,v\\;\\forall v\\in L^2(\\Omega)$.\n",
    "\n",
    "\n",
    "\n",
    "\n",
    "\n"
   ]
  },
  {
   "cell_type": "markdown",
   "id": "2f5d4ffa",
   "metadata": {},
   "source": [
    "Réponse et justification courte:"
   ]
  },
  {
   "cell_type": "markdown",
   "id": "a5f8a252",
   "metadata": {},
   "source": [
    "\n",
    "2. **Choix des fonctions de base P1 sur triangles**  \n",
    "   Les fonctions de base $\\{\\varphi_i\\}$ vérifient :  \n",
    "   A) $\\varphi_i(x_j)=\\delta_{ij}$ aux sommets $x_j$.  \n",
    "   B) Elles sont des polynômes de degré 1 à support global.  \n",
    "   C) Elles s’annulent sur tous les bords du maillage.  \n",
    "   D) Elles sont orthogonales dans $L^2(\\Omega)$.\n",
    "\n",
    "\n"
   ]
  },
  {
   "cell_type": "markdown",
   "id": "ed9222e5",
   "metadata": {},
   "source": [
    "Réponse et justification courte:"
   ]
  },
  {
   "cell_type": "markdown",
   "id": "06d42eb6",
   "metadata": {},
   "source": [
    "4. **Imposition des conditions de Dirichlet**  \n",
    "   Pour imposer $u=g$ sur $\\partial\\Omega$ on utilise généralement :  \n",
    "   A) Une modification du second membre uniquement.  \n",
    "   B) L’élimination des lignes/colonnes correspondantes et le remplacement des degrés de liberté par $g$.  \n",
    "   C) Un terme de pénalité $\\varepsilon\\int_{\\partial\\Omega}(u-g)\\,v$.  \n",
    "   D) Des multiplicateurs de Lagrange en chaque nœud de bord.\n",
    "   E) l'élimination de ligne uniquement et modification du second membre"
   ]
  },
  {
   "cell_type": "markdown",
   "id": "4bd223e6",
   "metadata": {},
   "source": [
    "Réponse et justification courte:"
   ]
  },
  {
   "cell_type": "markdown",
   "id": "be318900",
   "metadata": {},
   "source": [
    "3. **Propriétés de la matrice de rigidité**  \n",
    "   La matrice $K$ assemblée à partir de $\\displaystyle\\int_\\Omega \\nabla\\varphi_i\\cdot\\nabla\\varphi_j$ est :  \n",
    "   A) Diagonale mais non symétrique.  \n",
    "   B) Creuse (sparse) et symétrique définie positive.  \n",
    "   C) Dense et symétrique indéfinie.  \n",
    "   D) Creuse et non carrée.\n",
    "\n"
   ]
  },
  {
   "cell_type": "markdown",
   "id": "6202c4cc",
   "metadata": {},
   "source": [
    "Réponse et justification courte:"
   ]
  },
  {
   "cell_type": "markdown",
   "id": "bfe3d74e",
   "metadata": {},
   "source": [
    "5. **Ordre de convergence**  \n",
    "   Pour une solution lisse et un maillage uniforme de pas $h$, les éléments linéaires donnent  \n",
    "   $\\|u - u_h\\|_{H^1(\\Omega)} = O(h^p)$ avec  \n",
    "   A) $p=1$.  \n",
    "   B) $p=2$.  \n",
    "   C) $p=\\tfrac12$.  \n",
    "   D) $p=3$.\n"
   ]
  },
  {
   "cell_type": "markdown",
   "id": "e48fc2ef",
   "metadata": {},
   "source": [
    "Réponse et justification courte:"
   ]
  },
  {
   "cell_type": "markdown",
   "id": "441417cb",
   "metadata": {},
   "source": [
    "6. **Quadrature numérique**  \n",
    "   Pour $\\displaystyle\\int_K f(x)\\,\\varphi_i(x)\\,\\mathrm dx$ sur un triangle $K$, la formule la plus simple et exacte pour $f$ linéaire est :  \n",
    "   A) Le point milieu (barycentre).  \n",
    "   B) Le milieu de chaque côté.  \n",
    "   C) La quadrature de Gauss 3 points (ordre 3).  \n",
    "   D) La règle de Simpson sur chaque sous‐triangle.\n",
    "\n"
   ]
  },
  {
   "cell_type": "markdown",
   "id": "46aaf261",
   "metadata": {},
   "source": [
    "Reponse: "
   ]
  },
  {
   "cell_type": "markdown",
   "id": "71e5fac2",
   "metadata": {},
   "source": [
    "7. **Condition de Neumann homogène**  \n",
    "   $\\partial u/\\partial n = 0$ sur $\\partial\\Omega$ entraîne :  \n",
    "   A) Une solution unique seulement si $\\displaystyle\\int_\\Omega f=0$.  \n",
    "   B) Aucun effet — c’est équivalent à Dirichlet nul.  \n",
    "   C) Une matrice symétrique mais singulière.  \n",
    "   D) À la fois A et C.\n"
   ]
  },
  {
   "cell_type": "markdown",
   "id": "f917890a",
   "metadata": {},
   "source": [
    "Réponse et justification courte:"
   ]
  },
  {
   "cell_type": "markdown",
   "id": "ae214874",
   "metadata": {},
   "source": [
    "8. **Champ incompressible**  \n",
    "    Un champ vectoriel $\\mathbf{u} = (u_x,u_y,u_z)$ est dit incompressible si :  \n",
    "    A) $\\nabla\\times \\mathbf{u} = \\mathbf{0}$.  \n",
    "    B) $\\nabla\\cdot \\mathbf{u} = 0$.  \n",
    "    C) $\\|\\mathbf{u}\\|$ est constant.  \n",
    "    D) $\\int_\\Omega \\mathbf{u}\\,\\mathrm dV = \\mathbf{0}$."
   ]
  },
  {
   "cell_type": "markdown",
   "id": "a2a98823",
   "metadata": {},
   "source": [
    "Réponse et justification courte:"
   ]
  },
  {
   "cell_type": "code",
   "execution_count": null,
   "id": "ef6d2fed",
   "metadata": {},
   "outputs": [],
   "source": [
    "9. **Ligne de courant**  \n",
    "    Dans un écoulement stationnaire $\\mathbf{u}(x,y)$, une ligne de courant est :  \n",
    "    A) La trajectoire suivie par une particule fluide.  \n",
    "    B) Le lieu des points où $\\psi(x,y)=$ constante (fonction de courant).  \n",
    "    C) La courbe tangente au vecteur vitesse $\\mathbf{u}$.  \n",
    "    D) une combinaison des précédentes (lequelles?)."
   ]
  },
  {
   "cell_type": "markdown",
   "id": "322c82ed",
   "metadata": {},
   "source": [
    "Réponse et justification courte:"
   ]
  },
  {
   "cell_type": "markdown",
   "id": "1a9d74c2",
   "metadata": {},
   "source": [
    "## Partie 2 : Extension et tests du code\n",
    "\n",
    "### Question 2.1 – Vérification initiale  \n",
    "1. **Étude du code**  \n",
    "   - Présentez brièvement l’architecture de classes  \n",
    "   - Expliquez comment CMake et Boost.UT sont configurés.  \n",
    "2. **Exécution des tests**  \n",
    "   - Lancez tous les tests existants (`ctest` ou exécutable de tests).  \n",
    "   - Vérifiez que **tous** passent sans erreur. \n",
    "   - Y a 't il une erreur qui s'est glissé dans les tests ? si oui, laquelle ? "
   ]
  },
  {
   "cell_type": "markdown",
   "id": "b840f559",
   "metadata": {},
   "source": [
    "Réponse:"
   ]
  },
  {
   "cell_type": "markdown",
   "id": "eb193100",
   "metadata": {},
   "source": [
    "\n",
    "### Question 2.2 – Convergence pour une fonction polynomiale non exacte  \n",
    "1. **Ajout d’un test**  \n",
    "   - Choisissez $u(x,y)=x^2 + y^2$ (non représentable exactement en P1).  \n",
    "   - Écrivez un test Boost.UT qui :  \n",
    "     - Interpole $u$ sur chaque nœud,  \n",
    "     - Calcule l’erreur $\\|u_h - u\\|_{L^2}$ à l’aide de `computeL2Error`.  \n",
    "2. **Étude de la convergence**  \n",
    "   - Pour des maillages uniformes de pas $h=1/n$ avec $n\\in\\{8,16,32,64\\}$, collectez les erreurs  \n",
    "     $$\n",
    "       E_{L^2}(h) \\;=\\;\\|u_h - u\\|_{L^2}\\,.\n",
    "     $$\n",
    "   - Estimez l’ordre empirique  \n",
    "     $$\n",
    "       p \\;=\\;\\frac{\\ln\\bigl(E_{L^2}(h_1)/E_{L^2}(h_2)\\bigr)}{\\ln(h_1/h_2)}\\,.\n",
    "     $$\n",
    "   - Présentez un **tableau** $(h, E_{L^2}, p)$ et commentez si $p\\approx2$.  \n"
   ]
  },
  {
   "cell_type": "markdown",
   "id": "3a9ed7b5",
   "metadata": {},
   "source": [
    "Reponse: "
   ]
  },
  {
   "cell_type": "markdown",
   "id": "faa98b3a",
   "metadata": {},
   "source": [
    "### Question 2.3 – Implémentation de la condition de Neumann  \n",
    "1. **Formulation**  \n",
    "   - Ajoutez dans `BilinearForm` la contribution au second membre  \n",
    "     $$\n",
    "       \\int_{\\Gamma_N} g_N\\,\\varphi_i \\,,\n",
    "     $$  \n",
    "     où $\\Gamma_N$ est défini par un marqueur de bord (via `boundaryTag(\"Neumann\")`).  \n",
    "2. **Modifications du code**  \n",
    "   - Dans `LinearForm::assemble()`, détectez les éléments de bord $type=1$ dont `physical==mesh.boundaryTag(\"Neumann\")`, et assemblez  \n",
    "     $\\displaystyle\\sum_{\\text{arêtes}}\\int_{e}g_N\\,\\varphi_i$.  \n",
    "   - Ne touchez **pas** à la matrice de rigidité pour ces nœuds (contrairement à Dirichlet).  \n",
    "3. **Test unitaire**  \n",
    "   - Prenez $g_N(x,y)=1$. Pour le domaine simple (un carré), la solution de  \n",
    "     $$\n",
    "       -\\Delta u = 0,\\quad \\partial_n u = 1\\text{ sur }\\Gamma_N,\\quad u=0\\text{ sur } \\partial\\Omega\\setminus\\Gamma_N\n",
    "     $$  \n",
    "     peut être comparée à un cas analytique ou à un schéma de référence.  \n",
    "   - Vérifiez que le code produit une solution plausible (croissance linéaire du flux) sans crash.  \n"
   ]
  }
 ],
 "metadata": {
  "language_info": {
   "name": "python"
  }
 },
 "nbformat": 4,
 "nbformat_minor": 5
}
