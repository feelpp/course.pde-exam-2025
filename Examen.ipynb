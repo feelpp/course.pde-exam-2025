{
 "cells": [
  {
   "cell_type": "markdown",
   "id": "563f8d88",
   "metadata": {},
   "source": [
    "**Remise attendue **  \n",
    "\n",
    "- Répondre aux QCM, 0, 1 ou plusieurs options sont possibles, merci de justifier à chaque fois brièvement\n",
    "- Projet C++ complet (CMake, code, tests `ctest`) , repondre en C++ qui ne fonctionne pas apportera des points si la reponse en pertinente\n",
    "- pour les tests avec feel++, vous avz accès à https://docs.feelpp.org\n",
    "- repondre aux questions ci-dessous\n",
    "\n",
    "Faire le commit de votre travail au plus tard à la fin de l'examen. "
   ]
  },
  {
   "cell_type": "markdown",
   "id": "85aa8a3c",
   "metadata": {},
   "source": [
    "## Partie 1 : QCM\n",
    "\n",
    "**Instructions : pour chaque question, cochez la bonne réponse (une seule).**\n",
    "\n",
    "1. **Forme faible de l’équation de Poisson**  \n",
    "   \n",
    "$-\\Delta u = f \\quad\\text{dans }\\Omega,\\quad u=0\\text{ sur }\\partial\\Omega.$\n",
    " \n",
    "La forme faible correcte est :  \n",
    "A) Trouver $u\\in H^1(\\Omega)$ tel que $\\displaystyle\\int_\\Omega \\nabla u\\cdot\\nabla v = \\int_\\Omega f\\,v\\;\\forall v\\in H^1(\\Omega)$. \n",
    "\n",
    "B) Trouver $u\\in H_0^1(\\Omega)$ tel que $\\displaystyle\\int_\\Omega \\nabla u\\cdot\\nabla v = \\int_\\Omega f\\,v\\;\\forall v\\in H_0^1(\\Omega)$.  \n",
    "\n",
    "C) Trouver $u\\in C^0(\\overline\\Omega)$ tel que $\\displaystyle\\int_\\Omega \\Delta u\\,v = \\int_\\Omega f\\,v\\;\\forall v\\in C^0(\\overline\\Omega)$.  \n",
    "\n",
    "D) Trouver $u\\in L^2(\\Omega)$ tel que $\\displaystyle\\int_\\Omega u\\,v = \\int_\\Omega f\\,v\\;\\forall v\\in L^2(\\Omega)$.\n",
    "\n",
    "\n",
    "\n",
    "\n",
    "\n"
   ]
  },
  {
   "cell_type": "markdown",
   "id": "2f5d4ffa",
   "metadata": {},
   "source": [
    "Réponse et justification courte:"
   ]
  },
  {
   "cell_type": "markdown",
   "id": "a5f8a252",
   "metadata": {},
   "source": [
    "\n",
    "2. **Choix des fonctions de base P1 sur triangles**  \n",
    "   Les fonctions de base $\\{\\varphi_i\\}$ vérifient :  \n",
    "   A) $\\varphi_i(x_j)=\\delta_{ij}$ aux sommets $x_j$.  \n",
    "   B) Elles sont des polynômes de degré 1 à support global.  \n",
    "   C) Elles s’annulent sur tous les bords du maillage.  \n",
    "   D) Elles sont orthogonales dans $L^2(\\Omega)$.\n",
    "\n",
    "\n"
   ]
  },
  {
   "cell_type": "markdown",
   "id": "ed9222e5",
   "metadata": {},
   "source": [
    "Réponse et justification courte:"
   ]
  },
  {
   "cell_type": "markdown",
   "id": "06d42eb6",
   "metadata": {},
   "source": [
    "4. **Imposition des conditions de Dirichlet**  \n",
    "   Pour imposer $u=g$ sur $\\partial\\Omega$ on utilise généralement :  \n",
    "   A) Une modification du second membre uniquement.  \n",
    "   B) L’élimination des lignes/colonnes correspondantes et le remplacement des degrés de liberté par $g$.  \n",
    "   C) Un terme de pénalité $\\varepsilon\\int_{\\partial\\Omega}(u-g)\\,v$.  \n",
    "   D) Des multiplicateurs de Lagrange en chaque nœud de bord.\n",
    "   E) l'élimination de ligne uniquement et modification du second membre"
   ]
  },
  {
   "cell_type": "markdown",
   "id": "4bd223e6",
   "metadata": {},
   "source": [
    "Réponse et justification courte:"
   ]
  },
  {
   "cell_type": "markdown",
   "id": "be318900",
   "metadata": {},
   "source": [
    "3. **Propriétés de la matrice de rigidité**  \n",
    "   La matrice $K$ assemblée à partir de $\\displaystyle\\int_\\Omega \\nabla\\varphi_i\\cdot\\nabla\\varphi_j$ est :  \n",
    "   A) Diagonale mais non symétrique.  \n",
    "   B) Creuse (sparse) et symétrique définie positive.  \n",
    "   C) Dense et symétrique indéfinie.  \n",
    "   D) Creuse et non carrée.\n",
    "\n"
   ]
  },
  {
   "cell_type": "markdown",
   "id": "6202c4cc",
   "metadata": {},
   "source": [
    "Réponse et justification courte:"
   ]
  },
  {
   "cell_type": "markdown",
   "id": "bfe3d74e",
   "metadata": {},
   "source": [
    "5. **Ordre de convergence**  \n",
    "   Pour une solution lisse et un maillage uniforme de pas $h$, les éléments linéaires donnent  \n",
    "   $\\|u - u_h\\|_{H^1(\\Omega)} = O(h^p)$ avec  \n",
    "   A) $p=1$.  \n",
    "   B) $p=2$.  \n",
    "   C) $p=\\tfrac12$.  \n",
    "   D) $p=3$.\n"
   ]
  },
  {
   "cell_type": "markdown",
   "id": "e48fc2ef",
   "metadata": {},
   "source": [
    "Réponse et justification courte:"
   ]
  },
  {
   "cell_type": "markdown",
   "id": "441417cb",
   "metadata": {},
   "source": [
    "6. **Quadrature numérique**  \n",
    "   Pour $\\displaystyle\\int_K f(x)\\,\\varphi_i(x)\\,\\mathrm dx$ sur un triangle $K$, la formule la plus simple et exacte pour $f$ linéaire est :  \n",
    "   A) Le point milieu (barycentre).  \n",
    "   B) Le milieu de chaque côté.  \n",
    "   C) La quadrature de Gauss 3 points (ordre 3).  \n",
    "   D) La règle de Simpson sur chaque sous‐triangle.\n",
    "\n"
   ]
  },
  {
   "cell_type": "markdown",
   "id": "46aaf261",
   "metadata": {},
   "source": [
    "Reponse: "
   ]
  },
  {
   "cell_type": "markdown",
   "id": "71e5fac2",
   "metadata": {},
   "source": [
    "7. **Condition de Neumann homogène**  \n",
    "   $\\partial u/\\partial n = 0$ sur $\\partial\\Omega$ entraîne :  \n",
    "   A) Une solution unique seulement si $\\displaystyle\\int_\\Omega f=0$.  \n",
    "   B) Aucun effet — c’est équivalent à Dirichlet nul.  \n",
    "   C) Une matrice symétrique mais singulière.  \n",
    "   D) À la fois A et C.\n"
   ]
  },
  {
   "cell_type": "markdown",
   "id": "f917890a",
   "metadata": {},
   "source": [
    "Réponse et justification courte:"
   ]
  },
  {
   "cell_type": "markdown",
   "id": "ae214874",
   "metadata": {},
   "source": [
    "8. **Champ incompressible**  \n",
    "    Un champ vectoriel $\\mathbf{u} = (u_x,u_y,u_z)$ est dit incompressible si :  \n",
    "    A) $\\nabla\\times \\mathbf{u} = \\mathbf{0}$.  \n",
    "    B) $\\nabla\\cdot \\mathbf{u} = 0$.  \n",
    "    C) $\\|\\mathbf{u}\\|$ est constant.  \n",
    "    D) $\\int_\\Omega \\mathbf{u}\\,\\mathrm dV = \\mathbf{0}$."
   ]
  },
  {
   "cell_type": "markdown",
   "id": "a2a98823",
   "metadata": {},
   "source": [
    "Réponse et justification courte:"
   ]
  },
  {
   "cell_type": "markdown",
   "id": "59e40c46",
   "metadata": {},
   "source": [
    "9. **Ligne de courant**  \n",
    "    Dans un écoulement stationnaire $\\mathbf{u}(x,y)$, une ligne de courant est :  \n",
    "    A) La trajectoire suivie par une particule fluide.  \n",
    "    B) Le lieu des points où $\\psi(x,y)=$ constante (fonction de courant).  \n",
    "    C) La courbe tangente au vecteur vitesse $\\mathbf{u}$.  \n",
    "    D) une combinaison des précédentes (lequelles?)."
   ]
  },
  {
   "cell_type": "markdown",
   "id": "322c82ed",
   "metadata": {},
   "source": [
    "Réponse et justification courte:"
   ]
  },
  {
   "cell_type": "markdown",
   "id": "1a9d74c2",
   "metadata": {},
   "source": [
    "## Partie 2 : Extension et tests du code\n",
    "\n",
    "### Question 2.1 – Vérification initiale  \n",
    "1. **Étude du code**  \n",
    "   - Présentez brièvement l’architecture de classes  \n",
    "   - Expliquez comment est testé le code: dire quels sont les tests mathematiques effectués\n",
    "2. **Exécution des tests**  \n",
    "   - Lancez tous les tests existants (`ctest` ou exécutable de tests).  \n",
    "   - Vérifiez que **tous** passent sans erreur. "
   ]
  },
  {
   "cell_type": "markdown",
   "id": "b840f559",
   "metadata": {},
   "source": [
    "Réponse:"
   ]
  },
  {
   "cell_type": "markdown",
   "id": "eb193100",
   "metadata": {},
   "source": [
    "\n",
    "### Question 2.2 – Convergence pour une fonction polynomiale non exacte  \n",
    "1. **Ajout d’un test**  \n",
    "   - Choisissez $u(x,y)=x^2 + y^2$ (non représentable exactement en P1).  \n",
    "   - Écrivez un test Boost.UT qui :  \n",
    "     - Interpole $u$ sur chaque nœud,  \n",
    "     - Calcule l’erreur $\\|u_h - u\\|_{L^2}$ à l’aide de `computeL2Error`.  \n",
    "2. **Étude de la convergence**  \n",
    "   - Pour des maillages uniformes de pas $h=1/n$ avec $n\\in\\{8,16,32,64\\}$, collectez les erreurs  \n",
    "     $$\n",
    "       E_{L^2}(h) \\;=\\;\\|u_h - u\\|_{L^2}\\,.\n",
    "     $$\n",
    "   - Estimez l’ordre empirique  \n",
    "     $$\n",
    "       p \\;=\\;\\frac{\\ln\\bigl(E_{L^2}(h_1)/E_{L^2}(h_2)\\bigr)}{\\ln(h_1/h_2)}\\,.\n",
    "     $$\n",
    "   - Présentez un **tableau** $(h, E_{L^2}, p)$ et commentez si $p\\approx2$.  \n"
   ]
  },
  {
   "cell_type": "markdown",
   "id": "3a9ed7b5",
   "metadata": {},
   "source": [
    "Reponse: "
   ]
  },
  {
   "cell_type": "markdown",
   "id": "74cfcdf2",
   "metadata": {},
   "source": [
    "### Question 2.4 – Terme de réaction  \n",
    "1. **Formulation**  \n",
    "   - Étendez l’équation en  \n",
    "     $$\n",
    "       -\\Delta u + a\\,u = f \\quad\\text{dans }\\Omega,\n",
    "     $$  \n",
    "     avec $a$ constante.  \n",
    "2. **Modifications du code**  \n",
    "   - ajoutez  \n",
    "     $\\displaystyle a \\int_\\Omega \\phi_i\\,\\phi_j$ à chaque terme $K_{ij}$.  \n",
    "   - Adaptez la résolution pour inclure ce terme dans `K_`.  \n",
    "3. **Test de validation**  \n",
    "   - Choisissez $u_{\\rm ex}(x,y) = 1$ (constante)  \n",
    "     $\\implies f = a$.  \n",
    "   - Écrivez un test Boost.UT qui :  \n",
    "     - Met $f(x,y)=a$, Dirichlet $u=1$ sur tout $\\partial\\Omega$.  \n",
    "     - Vérifie que la solution numérique est $u_h\\approx1$ sur tous les nœuds.  \n",
    "   - Répétez avec $u_{\\rm ex}(x,y)=x+y$ pour tester l’aspect linéaire.  \n"
   ]
  },
  {
   "cell_type": "markdown",
   "id": "60adf49b",
   "metadata": {},
   "source": [
    "Reponse:"
   ]
  },
  {
   "cell_type": "markdown",
   "id": "d748d445",
   "metadata": {},
   "source": [
    "## Partie 3 : Convection–Diffusion–Réaction – Étude de Péclet\n",
    "\n",
    "vous pouvez cloner feelpp dans votre repo sous codespace (mais ne le poussez pas sous github)\n",
    "```\n",
    "git clone https://github.com/feelpp/feelpp\n",
    "```\n",
    "\n",
    "On considère l’équation  \n",
    "$$\n",
    "-\\,\\varepsilon\\,\\Delta u \\;+\\;\\beta_1\\,\\partial_x u \\;+\\;\\beta_2\\,\\partial_y u \\;=\\; f\n",
    "\\quad\\text{dans }\\Omega=[0,1]^2,\\quad u=0\\text{ sur }\\partial\\Omega\n",
    "$$  \n",
    "avec \n",
    "- $\\boldsymbol\\beta=(\\beta_1,\\beta_2) = (1,1)$,  \n",
    "- $\\varepsilon>0$ variable,  \n",
    "- condition de Dirichlet homogène $g=0$.\n",
    "\n",
    "### La solution exacte et du second membre\n",
    "\n",
    "On prend  \n",
    "$$\n",
    "u(x,y)\n",
    "=\\Bigl[x + \\frac{e^{\\beta_1 x/\\varepsilon}-1}{1 - e^{\\beta_1/\\varepsilon}}\\Bigr]\n",
    "\\,\\times\\,\n",
    "\\Bigl[y + \\frac{e^{\\beta_2 y/\\varepsilon}-1}{1 - e^{\\beta_2/\\varepsilon}}\\Bigr].\n",
    "$$\n",
    "\n",
    "Alors  \n",
    "$$\n",
    "f(x,y)\n",
    "= \\beta_1\\Bigl[y + \\frac{e^{\\beta_2 y/\\varepsilon}-1}{1 - e^{\\beta_2/\\varepsilon}}\\Bigr]\n",
    "\\;+\\;\n",
    "\\beta_2\\Bigl[x + \\frac{e^{\\beta_1 x/\\varepsilon}-1}{1 - e^{\\beta_1/\\varepsilon}}\\Bigr].\n",
    "$$\n",
    "\n",
    "Le gradient exact vaut  \n",
    "$$\n",
    "\\begin{aligned}\n",
    "\\partial_xu &= \\underbrace{\\bigl[1 + \\tfrac{\\beta_1}{\\varepsilon}\\tfrac{e^{\\beta_1 x/\\varepsilon}}\n",
    "{1 - e^{\\beta_1/\\varepsilon}}\\bigr]}_{A'(x)}\\;\n",
    "\\underbrace{\\Bigl[y + \\tfrac{e^{\\beta_2 y/\\varepsilon}-1}{1 - e^{\\beta_2/\\varepsilon}}\\Bigr]}_{B(y)},\\\\\n",
    "\\partial_yu &= A(x)\\;\n",
    "\\underbrace{\\bigl[1 + \\tfrac{\\beta_2}{\\varepsilon}\\tfrac{e^{\\beta_2 y/\\varepsilon}}\n",
    "{1 - e^{\\beta_2/\\varepsilon}}\\bigr]}_{B'(y)}.\n",
    "\\end{aligned}\n",
    "$$\n",
    "\n",
    "### Nombre de Péclet\n",
    "\n",
    "Sur $\\Omega$ de taille $L=1$, on définit  \n",
    "$$\n",
    "\\mathrm{Pe} \\;=\\;\\frac{\\|\\boldsymbol\\beta\\|\\,L}{\\varepsilon}\n",
    "=\\frac{\\sqrt{1^2+1^2}}{\\varepsilon}\n",
    "=\\frac{\\sqrt2}{\\varepsilon}.\n",
    "$$\n",
    "\n",
    "\n",
    "> **Rendu attendu** :  \n",
    "> - Tableaux d’erreurs et graphes pour Pe < 1 et Pe ≈ 10⁴.  \n",
    "> - Estimation des ordres de convergence.  \n",
    "> - Discussion comparative des deux régimes.  "
   ]
  },
  {
   "cell_type": "markdown",
   "id": "db891c6d",
   "metadata": {},
   "source": [
    "### Question 3.1 – Régime diffusion‐dominé (Pe < 1)\n",
    "\n",
    "1. Choisissez un $\\varepsilon$ tel que $\\mathrm{Pe}<1$ (par exemple $\\varepsilon=2\\sqrt2$ ou $\\varepsilon=10$).  \n",
    "2. Pour ces valeurs, et pour des maillages uniformes de pas $h=1/n$ avec $n=\\{16,32,64\\}$ :  \n",
    "   - Exécutez l’exécutable `philpp_coefficient_pde` avec votre `config.cfg` et le `parameters.json` adapté.  \n",
    "   - Relevez  \n",
    "     $$\n",
    "       E_{L^2}(h)=\\|u_h-u\\|_{L^2},\\quad\n",
    "       E_{H^1}(h)=\\|u_h-u\\|_{H^1}.\n",
    "     $$  \n",
    "   - estimez les pentes (ordres de convergence) de $E_{L^2}$ vs $h$ et $E_{H^1}$ vs $h$,\n",
    "3. Commentez :  \n",
    "   - L’ordre en $L^2$ est‐il proche de 2 ?  \n",
    "   - L’ordre en $H^1$ est‐il proche de 1 ?  "
   ]
  },
  {
   "cell_type": "markdown",
   "id": "4d936425",
   "metadata": {},
   "source": [
    "Reponse:"
   ]
  },
  {
   "cell_type": "markdown",
   "id": "9799946f",
   "metadata": {},
   "source": [
    "### Question 3.2 – Régime convection‐dominé (Pe ≫ 1)\n",
    "\n",
    "1. Choisissez $\\varepsilon$ tel que $\\mathrm{Pe}\\approx10^4$ (par exemple $\\varepsilon=\\frac{\\sqrt2}{10^4}$ ou $\\varepsilon=10^{-4}$).  \n",
    "2. Répétez l’étude de convergence sur $n=\\{16,32,64\\}$ :  \n",
    "   - Calculez $E_{L^2}(h)$ et $E_{H^1}(h)$.  \n",
    "   - Estimez les ordres.\n",
    "3. Commentez l’effet de la convection forte :  \n",
    "   - observe-t-on une perte de convergence sans stabilisation ?  \n",
    "   - les ordres théoriques sont-ils conservés ?  "
   ]
  },
  {
   "cell_type": "markdown",
   "id": "a79eb693",
   "metadata": {},
   "source": [
    "Reponse:"
   ]
  }
 ],
 "metadata": {
  "language_info": {
   "name": "python"
  }
 },
 "nbformat": 4,
 "nbformat_minor": 5
}
